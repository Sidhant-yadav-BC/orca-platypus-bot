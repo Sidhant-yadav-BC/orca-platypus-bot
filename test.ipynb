{
 "cells": [
  {
   "cell_type": "code",
   "execution_count": 1,
   "metadata": {},
   "outputs": [
    {
     "name": "stdout",
     "output_type": "stream",
     "text": [
      "Collecting replicate\n",
      "  Downloading replicate-0.11.0-py3-none-any.whl (22 kB)\n",
      "Collecting pydantic>1\n",
      "  Downloading pydantic-2.2.1-py3-none-any.whl (373 kB)\n",
      "\u001b[K     |████████████████████████████████| 373 kB 7.9 MB/s eta 0:00:01\n",
      "\u001b[?25hCollecting requests>2\n",
      "  Using cached requests-2.31.0-py3-none-any.whl (62 kB)\n",
      "Requirement already satisfied: packaging in ./env/lib/python3.9/site-packages (from replicate) (23.1)\n",
      "Collecting annotated-types>=0.4.0\n",
      "  Using cached annotated_types-0.5.0-py3-none-any.whl (11 kB)\n",
      "Requirement already satisfied: typing-extensions>=4.6.1 in ./env/lib/python3.9/site-packages (from pydantic>1->replicate) (4.7.1)\n",
      "Collecting pydantic-core==2.6.1\n",
      "  Downloading pydantic_core-2.6.1-cp39-cp39-macosx_11_0_arm64.whl (1.6 MB)\n",
      "\u001b[K     |████████████████████████████████| 1.6 MB 77.0 MB/s eta 0:00:01\n",
      "\u001b[?25hCollecting urllib3<3,>=1.21.1\n",
      "  Using cached urllib3-2.0.4-py3-none-any.whl (123 kB)\n",
      "Collecting charset-normalizer<4,>=2\n",
      "  Using cached charset_normalizer-3.2.0-cp39-cp39-macosx_11_0_arm64.whl (124 kB)\n",
      "Collecting certifi>=2017.4.17\n",
      "  Using cached certifi-2023.7.22-py3-none-any.whl (158 kB)\n",
      "Collecting idna<4,>=2.5\n",
      "  Using cached idna-3.4-py3-none-any.whl (61 kB)\n",
      "Installing collected packages: urllib3, pydantic-core, idna, charset-normalizer, certifi, annotated-types, requests, pydantic, replicate\n",
      "Successfully installed annotated-types-0.5.0 certifi-2023.7.22 charset-normalizer-3.2.0 idna-3.4 pydantic-2.2.1 pydantic-core-2.6.1 replicate-0.11.0 requests-2.31.0 urllib3-2.0.4\n",
      "\u001b[33mWARNING: You are using pip version 21.2.4; however, version 23.2.1 is available.\n",
      "You should consider upgrading via the '/Users/sidhantyadav/Desktop/pythonProjects/orcaP/env/bin/python -m pip install --upgrade pip' command.\u001b[0m\n",
      "Note: you may need to restart the kernel to use updated packages.\n"
     ]
    }
   ],
   "source": [
    "pip install replicate"
   ]
  },
  {
   "cell_type": "code",
   "execution_count": null,
   "metadata": {},
   "outputs": [],
   "source": []
  },
  {
   "cell_type": "code",
   "execution_count": null,
   "metadata": {},
   "outputs": [],
   "source": []
  },
  {
   "cell_type": "code",
   "execution_count": 19,
   "metadata": {},
   "outputs": [],
   "source": [
    "import os\n",
    "\n",
    "os.environ[\"REPLICATE_API_TOKEN\"] = \"r8_eqNrRp2c9M91BHNU6IjhD8XHPGUjacK3JDTBN\""
   ]
  },
  {
   "cell_type": "code",
   "execution_count": null,
   "metadata": {},
   "outputs": [],
   "source": []
  },
  {
   "cell_type": "code",
   "execution_count": null,
   "metadata": {},
   "outputs": [],
   "source": []
  },
  {
   "cell_type": "code",
   "execution_count": 25,
   "metadata": {},
   "outputs": [],
   "source": [
    "from langchain.llms import Replicate\n",
    "from langchain import PromptTemplate, LLMChain"
   ]
  },
  {
   "cell_type": "code",
   "execution_count": 26,
   "metadata": {},
   "outputs": [],
   "source": [
    "llm = Replicate(\n",
    "    model=\"niron1/openorca-platypus2-13b:d54aaa9ecf8710d10eaf9c57f107345adbb5c23afefda6436eab7b575aa68535\",\n",
    "    input={\"temperature\": 0.75,\n",
    "           \"max_length\": 500,\n",
    "           \"top_p\": 1},\n",
    ")\n"
   ]
  },
  {
   "cell_type": "code",
   "execution_count": 27,
   "metadata": {},
   "outputs": [
    {
     "data": {
      "text/plain": [
       "\"No, a cat cannot drive a car. Cats do not have the physical ability or cognitive understanding required to operate a vehicle. Driving involves precise motor skills, decision-making, and knowledge of traffic rules that cats lack. Additionally, cars are designed for humans with a wider range of motion, better hand-eye coordination, and greater awareness of their surroundings.\\n\\nHowever, there have been instances where cats have accidentally found themselves inside vehicles, as in some viral videos, but these episodes don't demonstrate any intention or capacity for driving on the part of the cat.\\n\\nIt is also important to note that allowing a pet to operate a vehicle can be dangerous both for the animal and other road users. It is crucial to ensure the safety of our pets by keeping them securely within appropriate environments and situations.\\n\\nIn conclusion, although the question seems humorous, it is essential to emphasize that cats do not possess the necessary attributes to drive a car and should continue to rely on human assistance when it comes to transportation.\""
      ]
     },
     "execution_count": 27,
     "metadata": {},
     "output_type": "execute_result"
    }
   ],
   "source": [
    "prompt = \"\"\"\n",
    "User: Can a cat drive a car?\n",
    "Assistant:\n",
    "\"\"\"\n",
    "llm(prompt)"
   ]
  },
  {
   "cell_type": "code",
   "execution_count": null,
   "metadata": {},
   "outputs": [],
   "source": []
  }
 ],
 "metadata": {
  "kernelspec": {
   "display_name": "env",
   "language": "python",
   "name": "python3"
  },
  "language_info": {
   "codemirror_mode": {
    "name": "ipython",
    "version": 3
   },
   "file_extension": ".py",
   "mimetype": "text/x-python",
   "name": "python",
   "nbconvert_exporter": "python",
   "pygments_lexer": "ipython3",
   "version": "3.9.6"
  },
  "orig_nbformat": 4
 },
 "nbformat": 4,
 "nbformat_minor": 2
}
